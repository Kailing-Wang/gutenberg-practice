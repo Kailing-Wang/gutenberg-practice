{
 "cells": [
  {
   "cell_type": "code",
   "execution_count": 20,
   "id": "efe1b8e7",
   "metadata": {},
   "outputs": [],
   "source": [
    "from bs4 import BeautifulSoup as bs\n",
    "import requests as req\n",
    "import os\n",
    "import re\n",
    "from pprint import pprint\n",
    "from random import randint\n",
    "from time import sleep\n",
    "\n",
    "# !pip list"
   ]
  },
  {
   "cell_type": "code",
   "execution_count": 21,
   "id": "a79923a7",
   "metadata": {},
   "outputs": [],
   "source": [
    "folderPath = \"project_gutenberg\"\n",
    "if not os.path.exists(folderPath):\n",
    "    os.makedirs(folderPath)"
   ]
  },
  {
   "cell_type": "code",
   "execution_count": null,
   "id": "7af8c92c",
   "metadata": {},
   "outputs": [],
   "source": [
    "url = 'https://www.gutenberg.org/browse/languages/zh'\n",
    "res = req.get(url)\n",
    "soup = bs(res.text, \"lxml\")\n",
    "\n",
    "project_gutenberg=[]\n",
    "book_links = soup.select(\"li.pgdbetext > a[href]\")\n",
    "chinese = re.compile(r'[\\u4e00-\\u9fff]')\n",
    "\n",
    "for book in book_links:\n",
    "    title = book.get_text().strip()\n",
    "    link = book.get('href')\n",
    "    if chinese.search(title):\n",
    "        match = re.search(r'/ebooks/(\\d+)', link)\n",
    "        if match:\n",
    "            book_id = match.group(1)\n",
    "            full_link = f\"https://www.gutenberg.org/cache/epub/{book_id}/pg{book_id}.txt\"\n",
    "        \n",
    "            project_gutenberg.append({\n",
    "            \"title\": title,\n",
    "            \"link\": full_link\n",
    "            })\n",
    "\n",
    "pprint(project_gutenberg)"
   ]
  },
  {
   "cell_type": "code",
   "execution_count": null,
   "id": "ac98d535",
   "metadata": {},
   "outputs": [],
   "source": [
    "#檢查重複的書名\n",
    "title_count = {}\n",
    "\n",
    "for obj in project_gutenberg:\n",
    "    title = re.sub(r'[\\\\/:*?\"<>|\\r\\n]', '', obj[\"title\"]).strip()\n",
    "    url = obj[\"link\"]\n",
    "    res = req.get(url)\n",
    "    chinese_text = re.findall(r'[\\u4e00-\\u9fff]+', res.text)\n",
    "    content = ' '.join(chinese_text)\n",
    "\n",
    "    if title not in title_count:\n",
    "        title_count[title] = 0\n",
    "        filename = f\"{title}.txt\"\n",
    "    else:\n",
    "        title_count[title] += 1\n",
    "        filename = f\"{title}_{title_count[title]}.txt\"\n",
    "    \n",
    "    with open(f\"{folderPath}/{filename}\", \"w\", encoding=\"utf-8\") as f:\n",
    "        f.write(content)\n",
    "        print(f\"{filename}\")\n",
    "\n",
    "    sleep(randint(1, 3))"
   ]
  }
 ],
 "metadata": {
  "kernelspec": {
   "display_name": "Python 3",
   "language": "python",
   "name": "python3"
  },
  "language_info": {
   "codemirror_mode": {
    "name": "ipython",
    "version": 3
   },
   "file_extension": ".py",
   "mimetype": "text/x-python",
   "name": "python",
   "nbconvert_exporter": "python",
   "pygments_lexer": "ipython3",
   "version": "3.13.3"
  }
 },
 "nbformat": 4,
 "nbformat_minor": 5
}
